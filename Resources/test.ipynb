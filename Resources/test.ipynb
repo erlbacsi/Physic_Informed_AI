{
 "cells": [
  {
   "cell_type": "code",
   "execution_count": 2,
   "metadata": {},
   "outputs": [],
   "source": [
    "from torch import nn\n",
    "import torch\n",
    "import torch.nn.functional as F\n",
    "from torch.utils.data import DataLoader, Dataset\n",
    "import numpy as np\n",
    "#import pytorch_lightning as pl\n",
    "from torch.optim.lr_scheduler import ReduceLROnPlateau"
   ]
  },
  {
   "cell_type": "code",
   "execution_count": 6,
   "metadata": {},
   "outputs": [],
   "source": [
    "c1 = nn.Conv2d(51,76, kernel_size=3, stride=3)\n",
    "c2 = nn.Conv2d(76,102, kernel_size=3, stride=1)\n",
    "p1 = nn.AvgPool2d((3,2))\n",
    "#c3 = nn.Conv2d(102,153, kernel_size=2, stride=2)\n",
    "#c4 = nn.Conv2d(153,204, kernel_size=1, stride=2)\n",
    "#p2 = nn.AvgPool2d((1,2))\n",
    "b1 = nn.BatchNorm2d(102)\n",
    "f1 = nn.Flatten()\n",
    "l1 = nn.Linear(33864, 14007)\n",
    "#l2 = nn.Linear(67728,73550)\n",
    "l3 = nn.Linear(14007, 14007)\n",
    "c5 = nn.ConvTranspose2d(3, 51, kernel_size=3, stride=3)\n",
    "input = torch.randn(1,51,21,2001)\n",
    "output_c1 = c1(input)\n",
    "output_c2 = c2(output_c1)\n",
    "output_p1 = p1(output_c2)\n",
    "#output_c3 = c3(output_p1)\n",
    "#output_c4 = c4(output_c3)\n",
    "#output_p2 = p2(output_c4)\n",
    "output_b1 = b1(output_p1)\n",
    "output_f1 = f1(output_b1)\n",
    "output_l1 = l1(output_f1)\n",
    "#output_l2 = l2(output_l1)\n",
    "output_l3 = l3(output_l1)\n",
    "output_c5 = c5(output_l3.view(-1,3,7,667))\n",
    "\n"
   ]
  }
 ],
 "metadata": {
  "kernelspec": {
   "display_name": "gbfloat",
   "language": "python",
   "name": "python3"
  },
  "language_info": {
   "codemirror_mode": {
    "name": "ipython",
    "version": 3
   },
   "file_extension": ".py",
   "mimetype": "text/x-python",
   "name": "python",
   "nbconvert_exporter": "python",
   "pygments_lexer": "ipython3",
   "version": "3.10.4"
  },
  "orig_nbformat": 4
 },
 "nbformat": 4,
 "nbformat_minor": 2
}
